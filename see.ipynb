{
 "cells": [
  {
   "cell_type": "code",
   "execution_count": null,
   "metadata": {},
   "outputs": [],
   "source": [
    "from Training import  ReadH5d, data_spilt, create_data_loader, ReadH5d_with_adc\n",
    "import os\n",
    "import matplotlib.pyplot as plt\n",
    "import numpy as np\n",
    "\n",
    "reader = ReadH5d_with_adc()\n",
    "\n",
    "base_dir = '/raid/candi/xiangcen/miami-data/miama_h5'\n",
    "data_dir = os.listdir(base_dir)\n",
    "\n",
    "\n",
    "x = data_dir[25]\n",
    "\n",
    "\n",
    "data_dict = reader(os.path.join(base_dir, x))\n",
    "\n",
    "\n",
    "t2, dwi, adc, lesion = data_dict['t2'], data_dict['dwi'], data_dict['adc'], data_dict['lesion']\n",
    "\n",
    "\n",
    "t2.shape, dwi.shape, adc.shape, lesion.shape"
   ]
  },
  {
   "cell_type": "code",
   "execution_count": null,
   "metadata": {},
   "outputs": [],
   "source": [
    "# Create a 4x8 subplot grid\n",
    "fig, axes = plt.subplots(4, 8, figsize=(16, 8))\n",
    "\n",
    "# Plot each image in the grid\n",
    "for i, ax in enumerate(axes.flat):\n",
    "    ax.imshow(dwi[0, ..., i], cmap='gray', interpolation='none')\n",
    "    ax.contour(lesion[0, ..., i])\n",
    "    ax.axis('off')  # Hide axes for a clean look\n",
    "\n",
    "plt.tight_layout()"
   ]
  },
  {
   "cell_type": "code",
   "execution_count": null,
   "metadata": {},
   "outputs": [],
   "source": [
    "# Create a 4x8 subplot grid\n",
    "fig, axes = plt.subplots(4, 8, figsize=(16, 8))\n",
    "\n",
    "# Plot each image in the grid\n",
    "for i, ax in enumerate(axes.flat):\n",
    "    ax.imshow(t2[0, ..., i], cmap='gray', interpolation='none')\n",
    "    ax.contour(lesion[0, ..., i])\n",
    "    ax.axis('off')  # Hide axes for a clean look\n",
    "\n",
    "plt.tight_layout()"
   ]
  },
  {
   "cell_type": "code",
   "execution_count": null,
   "metadata": {},
   "outputs": [],
   "source": [
    "# Create a 4x8 subplot grid\n",
    "fig, axes = plt.subplots(4, 8, figsize=(16, 8))\n",
    "\n",
    "# Plot each image in the grid\n",
    "for i, ax in enumerate(axes.flat):\n",
    "    ax.imshow(adc[0, ..., i], cmap='gray', interpolation='none')\n",
    "    ax.contour(lesion[0, ..., i])\n",
    "    ax.axis('off')  # Hide axes for a clean look\n",
    "\n",
    "plt.tight_layout()"
   ]
  }
 ],
 "metadata": {
  "kernelspec": {
   "display_name": "llm",
   "language": "python",
   "name": "python3"
  },
  "language_info": {
   "codemirror_mode": {
    "name": "ipython",
    "version": 3
   },
   "file_extension": ".py",
   "mimetype": "text/x-python",
   "name": "python",
   "nbconvert_exporter": "python",
   "pygments_lexer": "ipython3",
   "version": "3.12.9"
  }
 },
 "nbformat": 4,
 "nbformat_minor": 2
}
